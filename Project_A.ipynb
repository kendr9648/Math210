{
 "cells": [
  {
   "cell_type": "markdown",
   "id": "d60b0c81-71a5-407c-aa5d-543a9de3a8be",
   "metadata": {},
   "source": [
    "# MATH 210 Project A\n",
    "\n",
    "Project members:\n",
    "\n",
    "* William Kendrick: 72587512\n",
    "* Alessandro Adami: 32441974\n",
    "* Sean Donaghy: 93591923"
   ]
  },
  {
   "cell_type": "markdown",
   "id": "79ef68c9-bb42-4519-8465-84df1d6dc5ce",
   "metadata": {},
   "source": [
    "### Background information\n",
    "* Spruce Budworms are a species of bug which causes defoliation in both Birch and fir trees.\n",
    "* This defoliation weakens and kills trees over several years.\n",
    "\n",
    "### Short term dynamics:\n",
    "\n",
    "* Spruce Budworms reproduce and eat new and year old foliage.\n",
    "* Spruce Budworm predators don't reproduce quickly.\n",
    "* Predators are busy eating other insects and don't bother searching for Spruce Budworms until they are plentiful\n",
    "\n",
    "### Main goal:\n",
    "\n",
    "We want to find out how the steady states change when we increase/decrease the parameters."
   ]
  },
  {
   "cell_type": "markdown",
   "id": "e3563d9f-836b-4150-b66c-8abd5d7936b3",
   "metadata": {},
   "source": [
    "### Ludwig et.al model\n",
    "\n",
    "Ludwig et al. described the population dynamics of Spruce Budworms using the following model where:\n",
    "\n",
    "* $B$ is the size of the budworm population\n",
    "* $r_B$ is the growth rate constant for budworm\n",
    "* $K_B$ is the carrying capacity of the budworm in the abscence of predation\n",
    "* $\\beta$ is the strength of predation\n",
    "* $\\alpha$ is related to the budworm population size\n",
    "\n",
    "Mode:\n",
    "\n",
    "$$\n",
    "\\frac{dB}{dt} = r_BB(1-\\frac{B}{K_B}) - \\beta \\frac{B^2}{\\alpha^2 + B^2}\n",
    "$$\n",
    "\n"
   ]
  },
  {
   "cell_type": "markdown",
   "id": "a12e0c1d-2067-4219-9f1a-ba735d293916",
   "metadata": {},
   "source": [
    "### Step 1\n",
    "Write a Python function called f which takes input parameters `B, r, K, beta, alpha`, and `n`, and returns\n",
    "the value of the right hand side of the differential equation:\n",
    "\n",
    "$$\n",
    "f(B;r,K,\\beta,\\alpha,n) = r_BB(1-\\frac{B}{K_B}) - \\beta \\frac{B^n}{\\alpha^n + B^n}\n",
    "$$"
   ]
  },
  {
   "cell_type": "code",
   "execution_count": 114,
   "id": "d8b71217-477f-4f23-91d1-c20cc3bfe50b",
   "metadata": {},
   "outputs": [],
   "source": [
    "def f(B,r,K,beta,alpha,n):\n",
    "    value = r*B*(1 - B/K) - beta*(B**n/(alpha**n + B**n))\n",
    "    return value\n",
    "\n",
    "\n",
    "assert(f(1,5,5,5,5,5)) == 5*1*(1-1/5) - 5*(1**5/(5**5 + 1**5))\n",
    "assert(f(2,30,4,10,2,6)) == 30*2*(1-2/4) - 10*(2**6/(2**6 + 2**6))\n"
   ]
  },
  {
   "cell_type": "markdown",
   "id": "f636b294-6337-4003-bcd8-1208eb593008",
   "metadata": {},
   "source": [
    "### Step 2\n",
    "Compute the derivative of $f$ with respect to $B$. Write a Python function called df which takes input\n",
    "parameters `B, r, K, beta, alpha`, and `n`, and returns $f ′(B; r, K, \\beta, \\alpha, n)$."
   ]
  },
  {
   "cell_type": "code",
   "execution_count": 115,
   "id": "8f482ee0-03ce-4e76-a1e1-15d6679619c2",
   "metadata": {},
   "outputs": [],
   "source": [
    "def df(B,r,K,beta,alpha,n):\n",
    "    value = r-2*r*B/K - beta*alpha**n*n*B**(n-1)/(alpha**n + B**n)**2\n",
    "    return value\n",
    "\n",
    "assert(df(1,2,3,4,5,6)) == 2-2*2*1/3 - 4*5**6*6*1**(5)/(5**6+1**6)**2"
   ]
  },
  {
   "cell_type": "markdown",
   "id": "baaddac4-e7ed-426b-9c3e-f99ec21d811d",
   "metadata": {},
   "source": [
    "### Step 3\n",
    "Choose `r = 1, K = 100, β = 10, α = 5, and n = 4`. Use the following Python code to plot f (B)."
   ]
  },
  {
   "cell_type": "code",
   "execution_count": 116,
   "id": "1db60b50-8667-4545-96b7-f337493427b6",
   "metadata": {},
   "outputs": [
    {
     "data": {
      "text/plain": [
       "([<matplotlib.lines.Line2D at 0x7f7d7b09ccd0>], None)"
      ]
     },
     "execution_count": 116,
     "metadata": {},
     "output_type": "execute_result"
    },
    {
     "data": {
      "image/png": "[encoded data removed]",
      "text/plain": [
       "<Figure size 640x480 with 1 Axes>"
      ]
     },
     "metadata": {},
     "output_type": "display_data"
    }
   ],
   "source": [
    "import numpy as np\n",
    "import matplotlib.pyplot as plt\n",
    "\n",
    "B = np.linspace(0,5,200)\n",
    "fB = f(B,1,5,10,5,4)\n",
    "plt.plot(B,fB, 'b'), plt.grid(True)\n",
    "\n",
    "gB = 1*B*(1-B/5)\n",
    "plt.plot(B,gB, 'g'), plt.grid(True)\n",
    "\n",
    "qB = 10*B**4/(5**4 + B**4)\n",
    "plt.plot(B,qB, 'r'), plt.grid(True)\n",
    "\n",
    "\n"
   ]
  },
  {
   "cell_type": "markdown",
   "id": "c4f6f19e-1d53-41de-8dc0-cad68c93fe35",
   "metadata": {},
   "source": [
    "### Step 4\n",
    "Use Newton’s method to approximate all steady state solutions for the parameter values chosen in the\n",
    "previous part. Classify the steady states\n",
    "\n",
    "#### Newtons Methods\n",
    "\n",
    "Let $f(x)$ be a differentiable function and suppose \n",
    "there exists a root $r$ of $f(x)$ in $[a,b]$.\n",
    "We can approximate $f(x)$ by the tangent line at $x_0$ near $r$:\n",
    "$y = f'(x_0)(x-x_0)+f(x_0)$\n",
    "\n",
    "Find $x$ where the tangent line crosses the $x$-axis and that point should be closer to $r$\n",
    "\n",
    "$0 = f'(x_0)(x_1-x_0) + f(x_0)$\n",
    "\n",
    "$x_1 = x_0 - \\frac{f(x_0)}{f'(x_0)}$ and repeat this!\n",
    "\n",
    "$x_{n+1} = x_n - \\frac{f(x_n)}{f'(x_n)}$ And we hope $x_n -> r$ as $n - > \\infty$"
   ]
  },
  {
   "cell_type": "code",
   "execution_count": 117,
   "id": "63c4275c-e774-426a-937b-647c281204d7",
   "metadata": {},
   "outputs": [
    {
     "name": "stdout",
     "output_type": "stream",
     "text": [
      "0.0\n",
      "4.975365895795289\n",
      "9.322765070828416\n",
      "989.897948563279\n"
     ]
    }
   ],
   "source": [
    "r = 1\n",
    "K = 1000\n",
    "beta = 10\n",
    "alpha = 5\n",
    "n = 4\n",
    "def newtons(a,N):\n",
    "    B = [a]\n",
    "    for o in range(N):\n",
    "        B.append(B[o] - f(B[o],r,K,beta,alpha,n)/df(B[o],r,K,beta,alpha,n))\n",
    "    return (B[-1])\n",
    "\n",
    "print(newtons(0,100))\n",
    "print(newtons(5,100))\n",
    "print(newtons(15,100))\n",
    "print(newtons(900,100))\n"
   ]
  },
  {
   "cell_type": "markdown",
   "id": "8febc578-4838-4659-9979-7059e7144e63",
   "metadata": {},
   "source": [
    "### Step 5\n",
    "\n",
    "How do the steady states change when we increase/decrease each of the parameters?\n",
    "\n",
    "#### K\n",
    "\n",
    "As K increases, the steady states with small populations of bugs stay relatively the same, for a change of 900 units in K.\n",
    "\n",
    "However the final steady state with a large population had a change proportional to the change in K.\n",
    "\n",
    "As K decreases, the number of steady states decreases to two since the carrying capacity being so limited added on with the predation rate\n",
    " hello"
   ]
  },
  {
   "cell_type": "code",
   "execution_count": null,
   "id": "18887a6e-37f6-434d-b1d0-bac13fbccfcd",
   "metadata": {},
   "outputs": [],
   "source": []
  }
 ],
 "metadata": {
  "kernelspec": {
   "display_name": "Python 3 (ipykernel)",
   "language": "python",
   "name": "python3"
  },
  "language_info": {
   "codemirror_mode": {
    "name": "ipython",
    "version": 3
   },
   "file_extension": ".py",
   "mimetype": "text/x-python",
   "name": "python",
   "nbconvert_exporter": "python",
   "pygments_lexer": "ipython3",
   "version": "3.11.6"
  }
 },
 "nbformat": 4,
 "nbformat_minor": 5
}
